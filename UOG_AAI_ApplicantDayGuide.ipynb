{
  "nbformat": 4,
  "nbformat_minor": 0,
  "metadata": {
    "colab": {
      "name": "UOG-AAI-ApplicantDayGuide.ipynb",
      "provenance": [],
      "collapsed_sections": []
    },
    "kernelspec": {
      "name": "python3",
      "display_name": "Python 3"
    },
    "accelerator": "GPU"
  },
  "cells": [
    {
      "cell_type": "markdown",
      "metadata": {
        "id": "jD2HjilnLztW",
        "colab_type": "text"
      },
      "source": [
        "![uoglogo](https://danielunity.com/tutorials/GenericText/IMG-All/uoglogo.jpg)"
      ]
    },
    {
      "cell_type": "markdown",
      "metadata": {
        "id": "dyqJKZZUL81a",
        "colab_type": "text"
      },
      "source": [
        "# Offer Holder Day\n",
        "\n",
        "Welcome to the Taster session for the BSc Applied Artificial Intelligence course at the University of Gloucestershire! This session will give you the chance to get a taste of what it's like to be a student here. You'll be able to meet some of your future lecturers, current students and other applicants who have also been offered a place on your course!\n",
        "\n",
        "This Notebook will take you through the steps you need to go through to create your own Dog Breed Image classifier using Machine Learning. We will do this using Google Colab, Python Notebooks and the FastAI library."
      ]
    },
    {
      "cell_type": "markdown",
      "metadata": {
        "id": "1NiHkgQseJ7W",
        "colab_type": "text"
      },
      "source": [
        "# First Step\n",
        "The first step is to open the Notebook in Playground mode so that we can actually make changes! Click the playground button at the top of the screen (Shown in the image below)\n",
        "\n",
        "![alt text](https://uniglos.github.io/applicantday/IMG-All/playground.PNG)\n"
      ]
    },
    {
      "cell_type": "markdown",
      "metadata": {
        "id": "AM_9-iY7U-X6",
        "colab_type": "text"
      },
      "source": [
        "# A Quick Introduction to Python Notebooks\n",
        "\n",
        "## Cells\n",
        "Python Notebooks are made up of 2 different types of Cells:\n",
        "\n",
        "- **Markdown Cells**\n",
        "  - Markdown is a simple Mark-up Language used to format text.\n",
        "  - It has a really easy syntax and is very easy to pickup.\n",
        "    - `#` defines a header!\n",
        "    - Surrounding Text in `*` makes it *Italic*!\n",
        "    - Surrounding Text in `**` makes it **Bold**!\n",
        "  - Can be used to \"Visually Describe\" and provide important information about your code.  \n",
        "![6](https://uniglos.github.io/applicantday/IMG-All/Tutorial-1/6.PNG)\n",
        "\n",
        "- **Code Cells**\n",
        "  - Used for writing and executing Python code.\n",
        "  - Each code cell has an Input and an Output Block.\n",
        "    - The input cell is where your code goes.\n",
        "    - The output cell shows the output of your code just below the input cell.\n",
        "![5](https://uniglos.github.io/applicantday/IMG-All/Tutorial-1/5.PNG)"
      ]
    },
    {
      "cell_type": "markdown",
      "metadata": {
        "id": "DofhmSu2U-by",
        "colab_type": "text"
      },
      "source": [
        "# Creating a Cell\n",
        "Your Notebook will be created with a Code cell by default, you can add extra cells by clicking either `+Text` to create a markdown cell or `+Code` to create a Code cell.\n",
        "\n",
        "![7](https://uniglos.github.io/applicantday/IMG-All/Tutorial-1/7.PNG)"
      ]
    },
    {
      "cell_type": "markdown",
      "metadata": {
        "id": "JsNlJLIjU-fq",
        "colab_type": "text"
      },
      "source": [
        "# Re-Ordering Cells\n",
        "You can move cells either Up or Down by clicking on the Cell and using the Cell Controls which display on the right side of the cell.\n",
        "\n",
        "![8](https://uniglos.github.io/applicantday/IMG-All/Tutorial-1/8.PNG)"
      ]
    },
    {
      "cell_type": "markdown",
      "metadata": {
        "id": "WZ31Z-K1WwEd",
        "colab_type": "text"
      },
      "source": [
        "# Python\n",
        "\n",
        "### What is Python?\n",
        "Python is a popular programming language and was Created by Guido van Rossum in 1991.​\n",
        "\n",
        "It is used for:​\n",
        "\n",
        "- Server side Website development​\n",
        "- Software Development​\n",
        "- Data analysis​\n",
        "  - Good at handling large sets of data​\n",
        "- Machine Learning​"
      ]
    },
    {
      "cell_type": "markdown",
      "metadata": {
        "id": "4F8JXhGOWwOM",
        "colab_type": "text"
      },
      "source": [
        "### Using Python\n",
        "To use and run Python code we can create and write into a code cell! If we just write `print(5+5)` and run the cell (Click the play button when the cell is highlighted), it will give us an output of 10 as seen below!\n",
        "\n",
        "![A](https://uniglos.github.io/applicantday/IMG-All/Tutorial-2/a.PNG)"
      ]
    },
    {
      "cell_type": "markdown",
      "metadata": {
        "id": "jBn426qPWwY8",
        "colab_type": "text"
      },
      "source": [
        "### Variables\n",
        "A variable stores one or more data values.​ They can store:\n",
        "\n",
        "- Numbers\n",
        "  - Integers (Whole Numbers) e.g. `256`\n",
        "  - Floats (Fractional Numbers) e.g. `65.3124`\n",
        "- Strings (Letters and Words) e.g. `\"Hello\"`\n",
        "- Booleans (True or False)\n",
        "- Objects​ (Classes, Structs, Lists etc.)\n",
        "\n",
        "To assign a variable we need to declare a variable name and what is stored inside of it. The example below shows me declaring a variable called `bounce_count` and giving it a value of `65`.\n",
        "\n",
        "```python\n",
        "bounce_count = 65\n",
        "```\n",
        "\n",
        "The same goes for the other variable types:\n",
        "\n",
        "```python\n",
        "variable_A = True\n",
        "variable_B = \"Hello with double quotes\"\n",
        "variable_C = 'Hello with single quotes'\n",
        "variable_D = 5232.2432435\n",
        "```\n",
        "\n",
        "We can then use these variables to operate on, in the example below we add together `variable_A` and `variable_B` and store the value inside of `variable_C`!:\n",
        "\n",
        "```python\n",
        "variable_A = 5\n",
        "variable_B = 25\n",
        "variable_C = variable_A + variable_B\n",
        "```\n",
        "\n",
        "But for this tutorial we don't really need to get into the nitty gritty stuff, Lets move on.\n"
      ]
    },
    {
      "cell_type": "markdown",
      "metadata": {
        "id": "vzyjk9_aWwbs",
        "colab_type": "text"
      },
      "source": [
        "# Getting Started\n",
        "\n",
        "### Changing to GPU\n",
        "Neural Networks run extremely well from your Graphics Processing Unit (GPU), rather than the Central Processing Unit (CPU); by default Google Colab Notebooks run from CPU, so we're going to need to change that.\n",
        "\n",
        "- Go to the `Runtime` tab at the top of the notebook and click `Change Runtime Type`.\n",
        "![1](https://uniglos.github.io/applicantday/IMG-All/Tutorial-2/1.PNG)\n",
        "\n",
        "- In the `Hardware Accelerator` drop down menu, change `None` to `GPU` and hit `Save`.\n",
        "![2](https://uniglos.github.io/applicantday/IMG-All/Tutorial-2/2.PNG)"
      ]
    },
    {
      "cell_type": "markdown",
      "metadata": {
        "id": "iccRaq0vWweX",
        "colab_type": "text"
      },
      "source": [
        "### Refreshing the Notebook\n",
        "This code cell will restart the Notebooks variables and load a library called *MatPlotLib* which we will use later to draw graphs. Copy the code shown in this cell, in to the code cell below!\n",
        "\n",
        "```python\n",
        "#Reload the Notebook\n",
        "%reload_ext autoreload\n",
        "%autoreload 2\n",
        "%matplotlib inline\n",
        "```"
      ]
    },
    {
      "cell_type": "code",
      "metadata": {
        "id": "tR--zNkaJkve",
        "colab_type": "code",
        "colab": {}
      },
      "source": [
        "#Copy the above code into here and hit play!"
      ],
      "execution_count": 0,
      "outputs": []
    },
    {
      "cell_type": "markdown",
      "metadata": {
        "id": "on9Q5S3MXm5q",
        "colab_type": "text"
      },
      "source": [
        "# FastAI\n",
        "Fast AI is a Deep Learning Python Library designed to *make Neural Networks uncool again*. By this they mean to make deep learning as accessible as possible to people without programming degrees and access to large datasets.\n",
        "![Fastai](https://uniglos.github.io/applicantday/IMG-All/Tutorial-2/fastai.jpg)\n",
        "\n",
        "### Importing FastAI\n",
        "Google Colab has many libraries freely available to us, so instead of having to go through the tedious task of installing libraries, copy the following into the below code cell!\n",
        "\n",
        "```python\n",
        "#Import the FastAI Library\n",
        "import fastai\n",
        "```\n"
      ]
    },
    {
      "cell_type": "code",
      "metadata": {
        "id": "PJI8znqPSIsu",
        "colab_type": "code",
        "colab": {}
      },
      "source": [
        "#Copy the above code into here and hit play!"
      ],
      "execution_count": 0,
      "outputs": []
    },
    {
      "cell_type": "markdown",
      "metadata": {
        "id": "hAcl7HtrYjyI",
        "colab_type": "text"
      },
      "source": [
        "### Importing Specific FastAI modules\n",
        "We will need to import specific modules from the FastAI Library so that we can make our Pet classifier. Specificly, we will need to import the *Vision* module and the *metrics* module, , copy the following into the below code cell!\n",
        "\n",
        "```python\n",
        "#Import the Vision and Metrics modules from the FastAI Library\n",
        "from fastai.vision import *\n",
        "from fastai.metrics import error_rate\n",
        "```"
      ]
    },
    {
      "cell_type": "code",
      "metadata": {
        "id": "crVBeNiqSIvQ",
        "colab_type": "code",
        "colab": {}
      },
      "source": [
        "#Copy the above code into here and hit play!"
      ],
      "execution_count": 0,
      "outputs": []
    },
    {
      "cell_type": "markdown",
      "metadata": {
        "id": "nfOdtvQoYnCg",
        "colab_type": "text"
      },
      "source": [
        "### Ignoring some warnings\n",
        "There are some warnings that Tensorflow produces when we run the following program, but we can just ignore them by putting the following in a Code cell\n",
        "\n",
        "```python\n",
        "#Ignore tensorflow warnings\n",
        "import warnings\n",
        "warnings.filterwarnings(\"ignore\", category=UserWarning, module=\"torch.nn.functional\")\n",
        "```"
      ]
    },
    {
      "cell_type": "code",
      "metadata": {
        "id": "zNy8zZCYSIx8",
        "colab_type": "code",
        "colab": {}
      },
      "source": [
        "#Copy the above code into here and hit play!"
      ],
      "execution_count": 0,
      "outputs": []
    },
    {
      "cell_type": "markdown",
      "metadata": {
        "id": "GJX5lQl4YqNg",
        "colab_type": "text"
      },
      "source": [
        "### Setting a Batch Size\n",
        "To decide how many images we would like to process at once, we can change our batch size by simply declaring it as using it later. If you are trying this on a computer with not much memory, a lower batch size like 16 would be best.\n",
        "But for now we are going to try `64`, write the following in a new code cell:\n",
        "\n",
        "```python\n",
        "#Set the Batch size, if you run out of memory, try lowering this\n",
        "bs = 64\n",
        "```"
      ]
    },
    {
      "cell_type": "code",
      "metadata": {
        "id": "XWmbh24mSI0U",
        "colab_type": "code",
        "colab": {}
      },
      "source": [
        "#Copy the above code into here and hit play!"
      ],
      "execution_count": 0,
      "outputs": []
    },
    {
      "cell_type": "markdown",
      "metadata": {
        "id": "gcKu8LNLYpUf",
        "colab_type": "text"
      },
      "source": [
        "### Downloading the Images\n",
        "Next step is to download the Images that we are going to process. The FastAI library comes with some Image Datasets that we can use and download without any hassle.\n",
        "We can view these in Google Colab by typing `URLs.` and scrolling through the Preview menu that appears.\n",
        "\n",
        "![3](https://uniglos.github.io/applicantday/IMG-All/Tutorial-2/3.PNG)\n",
        "\n",
        "We are going to use the `URLs.PETS` Image data set.To download this, we need to use a function that will download the data set and unpack it for us, this function is `untar_data()` and we are going to store what the product of this function in a variable called `path`\n",
        "To do all this, we just need to simply put the following in a code cell.\n",
        "\n",
        "```python\n",
        "path = untar_data(URLs.PETS)\n",
        "```"
      ]
    },
    {
      "cell_type": "code",
      "metadata": {
        "id": "bmtACQz7SI4c",
        "colab_type": "code",
        "colab": {}
      },
      "source": [
        "#Copy the above code into here and hit play!"
      ],
      "execution_count": 0,
      "outputs": []
    },
    {
      "cell_type": "markdown",
      "metadata": {
        "id": "aukJ-QJ3YrYO",
        "colab_type": "text"
      },
      "source": [
        "### Getting the path names\n",
        "In this particular dataset, the image annotations and the actual images are stored in two separate folders, we can see this if we type `path.ls()`, which will list the directory where we are storing the data set.\n",
        "\n",
        "![4](https://uniglos.github.io/applicantday/IMG-All/Tutorial-2/4.PNG)\n",
        "\n",
        "To get the Image files we first need to reference the directories in a variable, create a new code cell and type the following:\n",
        "\n",
        "```python\n",
        "path_annotations = path/'annotations'\n",
        "path_images = path/'images'\n",
        "```\n",
        "\n"
      ]
    },
    {
      "cell_type": "code",
      "metadata": {
        "id": "4PRMuC8FSPX1",
        "colab_type": "code",
        "colab": {}
      },
      "source": [
        "#Copy the above code into here and hit play!"
      ],
      "execution_count": 0,
      "outputs": []
    },
    {
      "cell_type": "markdown",
      "metadata": {
        "id": "SJfw7H2rYr9I",
        "colab_type": "text"
      },
      "source": [
        "We can then use a handy function provided by FastAI to grab the image files for us from those directories, create a new code cell and type the following:\n",
        "\n",
        "```python\n",
        "file_names = get_image_files(path_images)\n",
        "```\n",
        "\n"
      ]
    },
    {
      "cell_type": "code",
      "metadata": {
        "id": "gbisDER8SP9m",
        "colab_type": "code",
        "colab": {}
      },
      "source": [
        "#Copy the above code into here and hit play!"
      ],
      "execution_count": 0,
      "outputs": []
    },
    {
      "cell_type": "markdown",
      "metadata": {
        "id": "14YmtJZPYsew",
        "colab_type": "text"
      },
      "source": [
        "### Viewing the file names\n",
        "Run the following code in a code cell to see the first 5 names of the files in our data set:\n",
        "\n",
        "```python\n",
        "print(file_names[:5])\n",
        "```\n",
        "\n",
        "This should give you an output like this:\n",
        "\n",
        "```\n",
        "[PosixPath('/root/.fastai/data/oxford-iiit-pet/images/Bombay_174.jpg'), PosixPath('/root/.fastai/data/oxford-iiit-pet/images/Egypti...\n",
        "```"
      ]
    },
    {
      "cell_type": "code",
      "metadata": {
        "id": "d6vO9NT5SP_9",
        "colab_type": "code",
        "colab": {}
      },
      "source": [
        "#Copy the above code into here and hit play!"
      ],
      "execution_count": 0,
      "outputs": []
    },
    {
      "cell_type": "markdown",
      "metadata": {
        "id": "rr0NLLXjYtEg",
        "colab_type": "text"
      },
      "source": [
        "### Extracting the Breed from the File name\n",
        "All of the image files already contain the Breed of the Pet, so instead of matching the Annotation files to the image files, we can just simply use a Regular Expression to extract the text from the file name.\n",
        "\n",
        "```python\n",
        "file_name_reg_expression = r'/([^/]+)_\\d+.jpg$'\n",
        "```"
      ]
    },
    {
      "cell_type": "code",
      "metadata": {
        "id": "eaGma4cvSQCl",
        "colab_type": "code",
        "colab": {}
      },
      "source": [
        "#Copy the above code into here and hit play!"
      ],
      "execution_count": 0,
      "outputs": []
    },
    {
      "cell_type": "markdown",
      "metadata": {
        "id": "2EJWusG6Yt7w",
        "colab_type": "text"
      },
      "source": [
        "### Creating a Batch from our Data set\n",
        "To be able to work on our data set and learn from it, we will need to turn it into an `ImageDataBunch`, which can be done with:\n",
        "\n",
        "```python\n",
        "data = ImageDataBunch.from_name_re(path_images, file_names, file_name_reg_expression, ds_tfms = get_transforms(), size = 224, bs = bs).normalize(imagenet_stats)\n",
        "```\n",
        "\n",
        "- We first pass through our Images path so that the Data bunch has a reference to the actual image files\n",
        "- We then pass through our `file_names`\n",
        "- Then our Regular expression so the DataBunch knows how to process the image file names\n"
      ]
    },
    {
      "cell_type": "code",
      "metadata": {
        "id": "qNY97_HrSQEu",
        "colab_type": "code",
        "colab": {}
      },
      "source": [
        "#Copy the above code into here and hit play!"
      ],
      "execution_count": 0,
      "outputs": []
    },
    {
      "cell_type": "markdown",
      "metadata": {
        "id": "8PZtYtRBYuiO",
        "colab_type": "text"
      },
      "source": [
        "### Previewing our Data set\n",
        "We can get a preview of a random selection of Images from our new Data Bunch by running the following code:\n",
        "\n",
        "```python\n",
        "data.show_batch(rows = 3, figsize=(7, 6))\n",
        "```\n"
      ]
    },
    {
      "cell_type": "code",
      "metadata": {
        "id": "70MwR5gBSQHN",
        "colab_type": "code",
        "colab": {}
      },
      "source": [
        "#Copy the above code into here and hit play!"
      ],
      "execution_count": 0,
      "outputs": []
    },
    {
      "cell_type": "markdown",
      "metadata": {
        "id": "TFH4x31IYvOu",
        "colab_type": "text"
      },
      "source": [
        "# Getting Started\n",
        "The first step to training our model is to create a Convolutional Neural Network Learner (CNN Learner), for this to work we need to supply it with a model to modify. We are going to use a Pretrained model for this called ResNet.\n",
        "\n",
        "##### What is a Pre-trained Model?\n",
        "A pre-trained model has been previously trained on a dataset and contains the weights and biases that represent the features of whichever dataset it was trained on. Learned features are often transferable to different data. For example, a model trained on a large dataset of bird images will contain learned features like edges or horizontal lines that you would be transferable your dataset.\n",
        "\n",
        "##### Why use a Pre-trained Model?\n",
        "Pre-trained models are beneficial to us for many reasons. By using a pre-trained model you are saving time. Someone else has already spent the time and compute resources to learn a lot of features and your model will likely benefit from it.\n",
        "\n",
        "## Creating the Learner\n",
        "To create the Learner we can just simply type the following:\n",
        "\n",
        "```python\n",
        "learn = cnn_learner(data, models.resnet34, metrics=error_rate)\n",
        "```"
      ]
    },
    {
      "cell_type": "code",
      "metadata": {
        "id": "-7jz6jc_SQJs",
        "colab_type": "code",
        "colab": {}
      },
      "source": [
        "#Copy the above code into here and hit play!"
      ],
      "execution_count": 0,
      "outputs": []
    },
    {
      "cell_type": "markdown",
      "metadata": {
        "id": "8Hm3aIChYwK5",
        "colab_type": "text"
      },
      "source": [
        "## Training the Model\n",
        "Now we can train the model! Type the following into a new code cell and run it!\n",
        "\n",
        "```python\n",
        "learn.fit_one_cycle(4)\n",
        "```\n"
      ]
    },
    {
      "cell_type": "code",
      "metadata": {
        "id": "r5wHWdwPSagF",
        "colab_type": "code",
        "colab": {}
      },
      "source": [
        "#Copy the above code into here and hit play!"
      ],
      "execution_count": 0,
      "outputs": []
    },
    {
      "cell_type": "markdown",
      "metadata": {
        "id": "FrWjC8JGYw63",
        "colab_type": "text"
      },
      "source": [
        "# Interpreting the Results\n",
        "After around 6 minutes, your model should be trained fairly well, this can be determined by the `error_rate`.\n",
        "\n",
        "![1](https://uniglos.github.io/applicantday/IMG-All/Tutorial-3/1.PNG)\n",
        "\n",
        "The error rate is a percentage of how many times our model was wrong at guessing the pet breed. At the end of training, this is only 6%! (`0.067659`) This means our model is already 94% accurate at identifying the type of Pet!\n"
      ]
    },
    {
      "cell_type": "markdown",
      "metadata": {
        "id": "_KN2zJ4ZbMCX",
        "colab_type": "text"
      },
      "source": [
        "# Saving the Model\n",
        "We can then save the model using the following code so we don't lose our progress:\n",
        "\n",
        "```python\n",
        "learn.save('stage-1')\n",
        "```"
      ]
    },
    {
      "cell_type": "code",
      "metadata": {
        "id": "GiXv5AC-Saif",
        "colab_type": "code",
        "colab": {}
      },
      "source": [
        "#Copy the above code into here and hit play!"
      ],
      "execution_count": 0,
      "outputs": []
    },
    {
      "cell_type": "markdown",
      "metadata": {
        "id": "0Wr9U592YxgZ",
        "colab_type": "text"
      },
      "source": [
        "## Seeing where it went wrong\n",
        "There are multiple methods for seeing where the model got confused, this can be done using the Learner Interpreter class, we can create one using:\n",
        "\n",
        "```python\n",
        "learner_interpretation = ClassificationInterpretation.from_learner(learn)\n",
        "```"
      ]
    },
    {
      "cell_type": "code",
      "metadata": {
        "id": "qHw6umNsSak9",
        "colab_type": "code",
        "colab": {}
      },
      "source": [
        "#Copy the above code into here and hit play!"
      ],
      "execution_count": 0,
      "outputs": []
    },
    {
      "cell_type": "markdown",
      "metadata": {
        "id": "Kip5nAL6YyJG",
        "colab_type": "text"
      },
      "source": [
        "### Confusion Matrix\n",
        "To generate a confusion matrix to see all of the wrong guesses in a neat format use the following:\n",
        "\n",
        "```python\n",
        "learner_interpretation.plot_confusion_matrix(figsize=(12,12), dpi=60)\n",
        "```\n",
        "\n",
        "This will give you a Matrix Graph with all of the Pet Breeds on each axis. The left axis is what the image actually was, and the bottom axis is what the model predicted it as, we can see a nice clean diagonal blue line of all the correct guesses.\n",
        "Then the wrong guesses are scattered around (I've highlighted some in red in the image below).\n",
        "\n",
        "![2](https://uniglos.github.io/applicantday/IMG-All/Tutorial-3/2.PNG)\n"
      ]
    },
    {
      "cell_type": "code",
      "metadata": {
        "id": "48yO-yHcSanV",
        "colab_type": "code",
        "colab": {}
      },
      "source": [
        "#Copy the above code into here and hit play!"
      ],
      "execution_count": 0,
      "outputs": []
    },
    {
      "cell_type": "markdown",
      "metadata": {
        "id": "lszsO23rYysW",
        "colab_type": "text"
      },
      "source": [
        "### Top losses viewer\n",
        "We can also see the images that had the highest loss values:\n",
        "\n",
        "```python\n",
        "learner_interpretation.plot_top_losses(9, figsize=(15,11))\n",
        "```"
      ]
    },
    {
      "cell_type": "code",
      "metadata": {
        "id": "Gb_CQoFJSapu",
        "colab_type": "code",
        "colab": {}
      },
      "source": [
        "#Copy the above code into here and hit play!"
      ],
      "execution_count": 0,
      "outputs": []
    },
    {
      "cell_type": "markdown",
      "metadata": {
        "id": "VJPtYVbtYzZ3",
        "colab_type": "text"
      },
      "source": [
        "### Most Confused List\n",
        "Or we can even just grab a list of the most confused breeds:\n",
        "\n",
        "```python\n",
        "learner_interpretation.most_confused(min_val=2)\n",
        "```"
      ]
    },
    {
      "cell_type": "code",
      "metadata": {
        "id": "Jyr_xVXeSasN",
        "colab_type": "code",
        "colab": {}
      },
      "source": [
        "#Copy the above code into here and hit play!"
      ],
      "execution_count": 0,
      "outputs": []
    },
    {
      "cell_type": "markdown",
      "metadata": {
        "id": "LxIwH0a-Y0IW",
        "colab_type": "text"
      },
      "source": [
        "## Whats next?\n",
        "The next step of this process would be to refine your model to get an even lower model rate, which can be achieved in many ways such as using different Resnet models or even just training you model for more epochs!\n",
        "Once trained, the model can be exported and used for external use such as in a tool or even a mobile app, some examples of Mobile apps that have used FastAI are listed below.\n",
        "\n",
        "- [Not Hotdog](https://github.com/gardnmi/not_hotdog/blob/master/not_hotdog.ipynb) : An app that uses FastAI to recreate the \"Not Hotdog\" app featured in the TV Show \"Silicon Valley\""
      ]
    },
    {
      "cell_type": "markdown",
      "metadata": {
        "id": "0afUqj81Y0KB",
        "colab_type": "text"
      },
      "source": [
        "![Tasterheader](https://uniglos.github.io/applicantday/IMG-All/uoglogo.png)"
      ]
    }
  ]
}